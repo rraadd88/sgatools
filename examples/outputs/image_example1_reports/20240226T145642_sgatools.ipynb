{
 "cells": [
  {
   "cell_type": "markdown",
   "id": "ccd6d875-efae-44ca-966b-4b396e18ad7f",
   "metadata": {
    "papermill": {
     "duration": 0.010215,
     "end_time": "2024-02-26T19:56:44.114167",
     "exception": false,
     "start_time": "2024-02-26T19:56:44.103952",
     "status": "completed"
    },
    "tags": []
   },
   "source": [
    "# Post-processing using `SGAtools`\n",
    "\n",
    "**Requirements**:\n",
    "\n",
    "    R\n",
    "    install.packages(\"BiocManager\")\n",
    "    library(BiocManager)\n",
    "    install(c(\"logger\",\"logging\",\"bootstrap\"))"
   ]
  },
  {
   "cell_type": "code",
   "execution_count": 1,
   "id": "d3ea0ec1-26c7-4a15-bcdd-fcfd62001a8d",
   "metadata": {
    "execution": {
     "iopub.execute_input": "2024-02-26T19:56:44.137377Z",
     "iopub.status.busy": "2024-02-26T19:56:44.135888Z",
     "iopub.status.idle": "2024-02-26T19:56:44.208548Z",
     "shell.execute_reply": "2024-02-26T19:56:44.207438Z"
    },
    "jupyter": {
     "source_hidden": true
    },
    "papermill": {
     "duration": 0.090735,
     "end_time": "2024-02-26T19:56:44.209971",
     "exception": false,
     "start_time": "2024-02-26T19:56:44.119236",
     "status": "completed"
    },
    "tags": []
   },
   "outputs": [],
   "source": [
    "## logging\n",
    "# options(show.error.locations = TRUE)\n",
    "## loading required libraries\n",
    "source(\"rscripts/SGAtools.R\")"
   ]
  },
  {
   "cell_type": "code",
   "execution_count": 2,
   "id": "c087b0f3-8587-4e30-805c-09b013c01147",
   "metadata": {
    "execution": {
     "iopub.execute_input": "2024-02-26T19:56:44.233500Z",
     "iopub.status.busy": "2024-02-26T19:56:44.214300Z",
     "iopub.status.idle": "2024-02-26T19:56:44.249927Z",
     "shell.execute_reply": "2024-02-26T19:56:44.249092Z"
    },
    "jupyter": {
     "source_hidden": true
    },
    "papermill": {
     "duration": 0.039403,
     "end_time": "2024-02-26T19:56:44.251085",
     "exception": false,
     "start_time": "2024-02-26T19:56:44.211682",
     "status": "completed"
    },
    "tags": [
     "parameters"
    ]
   },
   "outputs": [],
   "source": [
    "## parameters\n",
    "input_path=NULL#\"examples/inputs/image_example1.dat\"\n",
    "output_path=NULL#\"examples/outputs/image_example1.dat\"\n",
    "\n",
    "replicates=4\n",
    "linkage_cutoff=-1\n",
    "keep_large=FALSE \n",
    "overall_plate_median=510\n",
    "max_colony_size=1.5*overall_plate_median\n",
    "intermediate_data=F\n",
    "linkage_file=NULL\n",
    "linkage_genes=NULL"
   ]
  },
  {
   "cell_type": "code",
   "execution_count": 3,
   "id": "056631bb",
   "metadata": {
    "execution": {
     "iopub.execute_input": "2024-02-26T19:56:44.256083Z",
     "iopub.status.busy": "2024-02-26T19:56:44.255379Z",
     "iopub.status.idle": "2024-02-26T19:56:44.267796Z",
     "shell.execute_reply": "2024-02-26T19:56:44.267005Z"
    },
    "jupyter": {
     "source_hidden": true
    },
    "papermill": {
     "duration": 0.016029,
     "end_time": "2024-02-26T19:56:44.268944",
     "exception": false,
     "start_time": "2024-02-26T19:56:44.252915",
     "status": "completed"
    },
    "tags": [
     "injected-parameters"
    ]
   },
   "outputs": [],
   "source": [
    "# Parameters\n",
    "input_path = \"examples/inputs/image_example1.dat\"\n",
    "output_path = \"examples/outputs//image_example1.tsv\"\n",
    "replicates = 4\n",
    "linkage_cutoff = -1\n",
    "keep_large = FALSE\n",
    "overall_plate_median = 510\n",
    "max_colony_size = 765.0\n",
    "intermediate_data = FALSE\n",
    "linkage_file = NULL\n",
    "linkage_genes = NULL\n"
   ]
  },
  {
   "cell_type": "code",
   "execution_count": 4,
   "id": "3aa67bbd-2b5f-45cf-b2d6-658b45e21f11",
   "metadata": {
    "execution": {
     "iopub.execute_input": "2024-02-26T19:56:44.274755Z",
     "iopub.status.busy": "2024-02-26T19:56:44.274119Z",
     "iopub.status.idle": "2024-02-26T19:56:44.284379Z",
     "shell.execute_reply": "2024-02-26T19:56:44.283651Z"
    },
    "jupyter": {
     "source_hidden": true
    },
    "papermill": {
     "duration": 0.014841,
     "end_time": "2024-02-26T19:56:44.285464",
     "exception": false,
     "start_time": "2024-02-26T19:56:44.270623",
     "status": "completed"
    },
    "tags": []
   },
   "outputs": [
    {
     "name": "stdout",
     "output_type": "stream",
     "text": [
      "[1] \"\"\n"
     ]
    },
    {
     "name": "stdout",
     "output_type": "stream",
     "text": [
      "character(0)\n"
     ]
    }
   ],
   "source": [
    "## inferred parameters\n",
    "output_dir_path <- dirname(input_path)\n",
    "\n",
    "if (is.null(linkage_file)) {\n",
    "  linkage_file <- ''\n",
    "}\n",
    "print(linkage_file)\n",
    "if (is.null(linkage_genes)) {\n",
    "  linkage_genes <- character(0)\n",
    "}\n",
    "print(linkage_genes)"
   ]
  },
  {
   "cell_type": "markdown",
   "id": "9755e37d-d47d-43fe-acb4-935e03161f84",
   "metadata": {
    "papermill": {
     "duration": 0.001552,
     "end_time": "2024-02-26T19:56:44.288864",
     "exception": false,
     "start_time": "2024-02-26T19:56:44.287312",
     "status": "completed"
    },
    "tags": []
   },
   "source": [
    "## Input data"
   ]
  },
  {
   "cell_type": "code",
   "execution_count": 5,
   "id": "c283b9ff-ea1b-4fc8-bf30-725a66b190f5",
   "metadata": {
    "execution": {
     "iopub.execute_input": "2024-02-26T19:56:44.293663Z",
     "iopub.status.busy": "2024-02-26T19:56:44.293041Z",
     "iopub.status.idle": "2024-02-26T19:56:44.306580Z",
     "shell.execute_reply": "2024-02-26T19:56:44.305804Z"
    },
    "jupyter": {
     "source_hidden": true
    },
    "papermill": {
     "duration": 0.017227,
     "end_time": "2024-02-26T19:56:44.307704",
     "exception": false,
     "start_time": "2024-02-26T19:56:44.290477",
     "status": "completed"
    },
    "tags": []
   },
   "outputs": [
    {
     "data": {
      "text/html": [
       "<table class=\"dataframe\">\n",
       "<caption>A data.frame: 1 × 4</caption>\n",
       "<thead>\n",
       "\t<tr><th></th><th scope=col>row</th><th scope=col>col</th><th scope=col>size</th><th scope=col>circularity</th></tr>\n",
       "\t<tr><th></th><th scope=col>&lt;int&gt;</th><th scope=col>&lt;int&gt;</th><th scope=col>&lt;dbl&gt;</th><th scope=col>&lt;dbl&gt;</th></tr>\n",
       "</thead>\n",
       "<tbody>\n",
       "\t<tr><th scope=row>1</th><td>1</td><td>1</td><td>3861</td><td>0.861296</td></tr>\n",
       "</tbody>\n",
       "</table>\n"
      ],
      "text/latex": [
       "A data.frame: 1 × 4\n",
       "\\begin{tabular}{r|llll}\n",
       "  & row & col & size & circularity\\\\\n",
       "  & <int> & <int> & <dbl> & <dbl>\\\\\n",
       "\\hline\n",
       "\t1 & 1 & 1 & 3861 & 0.861296\\\\\n",
       "\\end{tabular}\n"
      ],
      "text/markdown": [
       "\n",
       "A data.frame: 1 × 4\n",
       "\n",
       "| <!--/--> | row &lt;int&gt; | col &lt;int&gt; | size &lt;dbl&gt; | circularity &lt;dbl&gt; |\n",
       "|---|---|---|---|---|\n",
       "| 1 | 1 | 1 | 3861 | 0.861296 |\n",
       "\n"
      ],
      "text/plain": [
       "  row col size circularity\n",
       "1 1   1   3861 0.861296   "
      ]
     },
     "metadata": {},
     "output_type": "display_data"
    }
   ],
   "source": [
    "# pre-processed\n",
    "df01 <- read.table(input_path, sep = \"\\t\", header = TRUE)\n",
    "head(df01,1)"
   ]
  },
  {
   "cell_type": "markdown",
   "id": "65377888-8260-4423-9f33-c6312349e4ae",
   "metadata": {
    "papermill": {
     "duration": 0.001664,
     "end_time": "2024-02-26T19:56:44.311208",
     "exception": false,
     "start_time": "2024-02-26T19:56:44.309544",
     "status": "completed"
    },
    "tags": []
   },
   "source": [
    "### Plots for the input data"
   ]
  },
  {
   "cell_type": "code",
   "execution_count": 6,
   "id": "d812c7e7-9172-4999-bd04-065b5d7ea2e9",
   "metadata": {
    "execution": {
     "iopub.execute_input": "2024-02-26T19:56:44.316079Z",
     "iopub.status.busy": "2024-02-26T19:56:44.315455Z",
     "iopub.status.idle": "2024-02-26T19:56:44.376230Z",
     "shell.execute_reply": "2024-02-26T19:56:44.375330Z"
    },
    "jupyter": {
     "source_hidden": true
    },
    "papermill": {
     "duration": 0.06434,
     "end_time": "2024-02-26T19:56:44.377307",
     "exception": false,
     "start_time": "2024-02-26T19:56:44.312967",
     "status": "completed"
    },
    "tags": []
   },
   "outputs": [
    {
     "data": {
      "image/png": "[encoded data removed]",
      "text/plain": [
       "Plot with title “Histogram of df01$size”"
      ]
     },
     "metadata": {
      "image/png": {
       "height": 420,
       "width": 420
      }
     },
     "output_type": "display_data"
    }
   ],
   "source": [
    "hist(df01$size)"
   ]
  },
  {
   "cell_type": "markdown",
   "id": "006a6712-6a2e-4228-8ca9-13492398eb65",
   "metadata": {
    "papermill": {
     "duration": 0.001889,
     "end_time": "2024-02-26T19:56:44.381321",
     "exception": false,
     "start_time": "2024-02-26T19:56:44.379432",
     "status": "completed"
    },
    "tags": []
   },
   "source": [
    "## Normalization"
   ]
  },
  {
   "cell_type": "code",
   "execution_count": 7,
   "id": "3efc15d1-195a-4958-aa4d-5e3ffefa35d3",
   "metadata": {
    "execution": {
     "iopub.execute_input": "2024-02-26T19:56:44.386777Z",
     "iopub.status.busy": "2024-02-26T19:56:44.385925Z",
     "iopub.status.idle": "2024-02-26T19:56:44.606398Z",
     "shell.execute_reply": "2024-02-26T19:56:44.605619Z"
    },
    "jupyter": {
     "source_hidden": true
    },
    "papermill": {
     "duration": 0.224245,
     "end_time": "2024-02-26T19:56:44.607512",
     "exception": false,
     "start_time": "2024-02-26T19:56:44.383267",
     "status": "completed"
    },
    "tags": []
   },
   "outputs": [
    {
     "name": "stdout",
     "output_type": "stream",
     "text": [
      "\u001b[0m2024-02-26 14:56:44.411711 INFO::Normalizing plate: replicates = 4, overall.plate.median = 510, max.colony.size = 765\u001b[0m\u001b[22m\u001b[23m\u001b[24m\u001b[27m\u001b[28m\u001b[29m\u001b[39m\u001b[49m\u001b[0m\u001b[0m\u001b[22m\u001b[23m\u001b[24m\u001b[27m\u001b[28m\u001b[29m\u001b[39m\u001b[49m\n",
      "\u001b[0m2024-02-26 14:56:44.411711 INFO::Normalizing plate: replicates = 4, overall.plate.median = 510, max.colony.size = 765\u001b[0m\u001b[22m\u001b[23m\u001b[24m\u001b[27m\u001b[28m\u001b[29m\u001b[39m\u001b[49m\u001b[0m\u001b[0m\u001b[22m\u001b[23m\u001b[24m\u001b[27m\u001b[28m\u001b[29m\u001b[39m\u001b[49m\n",
      "\u001b[0m2024-02-26 14:56:44.416057 INFO::Assigning group ids?\u001b[0m\u001b[22m\u001b[23m\u001b[24m\u001b[27m\u001b[28m\u001b[29m\u001b[39m\u001b[49m\u001b[0m\u001b[0m\u001b[22m\u001b[23m\u001b[24m\u001b[27m\u001b[28m\u001b[29m\u001b[39m\u001b[49m\n",
      "\u001b[0m2024-02-26 14:56:44.416057 INFO::Assigning group ids?\u001b[0m\u001b[22m\u001b[23m\u001b[24m\u001b[27m\u001b[28m\u001b[29m\u001b[39m\u001b[49m\u001b[0m\u001b[0m\u001b[22m\u001b[23m\u001b[24m\u001b[27m\u001b[28m\u001b[29m\u001b[39m\u001b[49m\n",
      "\u001b[0m2024-02-26 14:56:44.420405 INFO::Preprocessing2\u001b[0m\u001b[22m\u001b[23m\u001b[24m\u001b[27m\u001b[28m\u001b[29m\u001b[39m\u001b[49m\u001b[0m\u001b[0m\u001b[22m\u001b[23m\u001b[24m\u001b[27m\u001b[28m\u001b[29m\u001b[39m\u001b[49m\n",
      "\u001b[0m2024-02-26 14:56:44.420405 INFO::Preprocessing2\u001b[0m\u001b[22m\u001b[23m\u001b[24m\u001b[27m\u001b[28m\u001b[29m\u001b[39m\u001b[49m\u001b[0m\u001b[0m\u001b[22m\u001b[23m\u001b[24m\u001b[27m\u001b[28m\u001b[29m\u001b[39m\u001b[49m\n",
      "\u001b[0m2024-02-26 14:56:44.420852 INFO::(F1) Linkage effect filter\u001b[0m\u001b[22m\u001b[23m\u001b[24m\u001b[27m\u001b[28m\u001b[29m\u001b[39m\u001b[49m\u001b[0m\u001b[0m\u001b[22m\u001b[23m\u001b[24m\u001b[27m\u001b[28m\u001b[29m\u001b[39m\u001b[49m\n",
      "\u001b[0m2024-02-26 14:56:44.420852 INFO::(F1) Linkage effect filter\u001b[0m\u001b[22m\u001b[23m\u001b[24m\u001b[27m\u001b[28m\u001b[29m\u001b[39m\u001b[49m\u001b[0m\u001b[0m\u001b[22m\u001b[23m\u001b[24m\u001b[27m\u001b[28m\u001b[29m\u001b[39m\u001b[49m\n",
      "\u001b[0m2024-02-26 14:56:44.433196 INFO::# Applying linkage filter, linkage.cutoff = -1\u001b[0m\u001b[22m\u001b[23m\u001b[24m\u001b[27m\u001b[28m\u001b[29m\u001b[39m\u001b[49m\u001b[0m\u001b[0m\u001b[22m\u001b[23m\u001b[24m\u001b[27m\u001b[28m\u001b[29m\u001b[39m\u001b[49m\n",
      "\u001b[0m2024-02-26 14:56:44.433196 INFO::# Applying linkage filter, linkage.cutoff = -1\u001b[0m\u001b[22m\u001b[23m\u001b[24m\u001b[27m\u001b[28m\u001b[29m\u001b[39m\u001b[49m\u001b[0m\u001b[0m\u001b[22m\u001b[23m\u001b[24m\u001b[27m\u001b[28m\u001b[29m\u001b[39m\u001b[49m\n",
      "\u001b[0m2024-02-26 14:56:44.435441 INFO::Linkage file is at:\u001b[0m\u001b[22m\u001b[23m\u001b[24m\u001b[27m\u001b[28m\u001b[29m\u001b[39m\u001b[49m\u001b[0m\u001b[0m\u001b[22m\u001b[23m\u001b[24m\u001b[27m\u001b[28m\u001b[29m\u001b[39m\u001b[49m\n",
      "\u001b[0m2024-02-26 14:56:44.435441 INFO::Linkage file is at:\u001b[0m\u001b[22m\u001b[23m\u001b[24m\u001b[27m\u001b[28m\u001b[29m\u001b[39m\u001b[49m\u001b[0m\u001b[0m\u001b[22m\u001b[23m\u001b[24m\u001b[27m\u001b[28m\u001b[29m\u001b[39m\u001b[49m\n",
      "\u001b[0m2024-02-26 14:56:44.435894 INFO::Chromosome coordinates file does not exist, returning empty data frame\u001b[0m\u001b[22m\u001b[23m\u001b[24m\u001b[27m\u001b[28m\u001b[29m\u001b[39m\u001b[49m\u001b[0m\u001b[0m\u001b[22m\u001b[23m\u001b[24m\u001b[27m\u001b[28m\u001b[29m\u001b[39m\u001b[49m\n",
      "\u001b[0m2024-02-26 14:56:44.435894 INFO::Chromosome coordinates file does not exist, returning empty data frame\u001b[0m\u001b[22m\u001b[23m\u001b[24m\u001b[27m\u001b[28m\u001b[29m\u001b[39m\u001b[49m\u001b[0m\u001b[0m\u001b[22m\u001b[23m\u001b[24m\u001b[27m\u001b[28m\u001b[29m\u001b[39m\u001b[49m\n",
      "\u001b[0m2024-02-26 14:56:44.436421 INFO::Skipping linkage correction...\u001b[0m\u001b[22m\u001b[23m\u001b[24m\u001b[27m\u001b[28m\u001b[29m\u001b[39m\u001b[49m\u001b[0m\u001b[0m\u001b[22m\u001b[23m\u001b[24m\u001b[27m\u001b[28m\u001b[29m\u001b[39m\u001b[49m\n",
      "\u001b[0m2024-02-26 14:56:44.436421 INFO::Skipping linkage correction...\u001b[0m\u001b[22m\u001b[23m\u001b[24m\u001b[27m\u001b[28m\u001b[29m\u001b[39m\u001b[49m\u001b[0m\u001b[0m\u001b[22m\u001b[23m\u001b[24m\u001b[27m\u001b[28m\u001b[29m\u001b[39m\u001b[49m\n",
      "\u001b[0m2024-02-26 14:56:44.451922 INFO::(N1) Plate normalization\u001b[0m\u001b[22m\u001b[23m\u001b[24m\u001b[27m\u001b[28m\u001b[29m\u001b[39m\u001b[49m\u001b[0m\u001b[0m\u001b[22m\u001b[23m\u001b[24m\u001b[27m\u001b[28m\u001b[29m\u001b[39m\u001b[49m\n",
      "\u001b[0m2024-02-26 14:56:44.451922 INFO::(N1) Plate normalization\u001b[0m\u001b[22m\u001b[23m\u001b[24m\u001b[27m\u001b[28m\u001b[29m\u001b[39m\u001b[49m\u001b[0m\u001b[0m\u001b[22m\u001b[23m\u001b[24m\u001b[27m\u001b[28m\u001b[29m\u001b[39m\u001b[49m\n",
      "\u001b[0m2024-02-26 14:56:44.457599 INFO::# Normalizing for plate effect, default.overall.median = 510\u001b[0m\u001b[22m\u001b[23m\u001b[24m\u001b[27m\u001b[28m\u001b[29m\u001b[39m\u001b[49m\u001b[0m\u001b[0m\u001b[22m\u001b[23m\u001b[24m\u001b[27m\u001b[28m\u001b[29m\u001b[39m\u001b[49m\n",
      "\u001b[0m2024-02-26 14:56:44.457599 INFO::# Normalizing for plate effect, default.overall.median = 510\u001b[0m\u001b[22m\u001b[23m\u001b[24m\u001b[27m\u001b[28m\u001b[29m\u001b[39m\u001b[49m\u001b[0m\u001b[0m\u001b[22m\u001b[23m\u001b[24m\u001b[27m\u001b[28m\u001b[29m\u001b[39m\u001b[49m\n",
      "\u001b[0m2024-02-26 14:56:44.458349 INFO::Done plate normalization\u001b[0m\u001b[22m\u001b[23m\u001b[24m\u001b[27m\u001b[28m\u001b[29m\u001b[39m\u001b[49m\u001b[0m\u001b[0m\u001b[22m\u001b[23m\u001b[24m\u001b[27m\u001b[28m\u001b[29m\u001b[39m\u001b[49m\n",
      "\u001b[0m2024-02-26 14:56:44.458349 INFO::Done plate normalization\u001b[0m\u001b[22m\u001b[23m\u001b[24m\u001b[27m\u001b[28m\u001b[29m\u001b[39m\u001b[49m\u001b[0m\u001b[0m\u001b[22m\u001b[23m\u001b[24m\u001b[27m\u001b[28m\u001b[29m\u001b[39m\u001b[49m\n",
      "\u001b[0m2024-02-26 14:56:44.463672 INFO::# Applying big replicates filter, max.colony.size = 765\u001b[0m\u001b[22m\u001b[23m\u001b[24m\u001b[27m\u001b[28m\u001b[29m\u001b[39m\u001b[49m\u001b[0m\u001b[0m\u001b[22m\u001b[23m\u001b[24m\u001b[27m\u001b[28m\u001b[29m\u001b[39m\u001b[49m\n",
      "\u001b[0m2024-02-26 14:56:44.463672 INFO::# Applying big replicates filter, max.colony.size = 765\u001b[0m\u001b[22m\u001b[23m\u001b[24m\u001b[27m\u001b[28m\u001b[29m\u001b[39m\u001b[49m\u001b[0m\u001b[0m\u001b[22m\u001b[23m\u001b[24m\u001b[27m\u001b[28m\u001b[29m\u001b[39m\u001b[49m\n",
      "\u001b[0m2024-02-26 14:56:44.464555 INFO::Done big replicates filter, total ignored = 0\u001b[0m\u001b[22m\u001b[23m\u001b[24m\u001b[27m\u001b[28m\u001b[29m\u001b[39m\u001b[49m\u001b[0m\u001b[0m\u001b[22m\u001b[23m\u001b[24m\u001b[27m\u001b[28m\u001b[29m\u001b[39m\u001b[49m\n",
      "\u001b[0m2024-02-26 14:56:44.464555 INFO::Done big replicates filter, total ignored = 0\u001b[0m\u001b[22m\u001b[23m\u001b[24m\u001b[27m\u001b[28m\u001b[29m\u001b[39m\u001b[49m\u001b[0m\u001b[0m\u001b[22m\u001b[23m\u001b[24m\u001b[27m\u001b[28m\u001b[29m\u001b[39m\u001b[49m\n",
      "\u001b[0m2024-02-26 14:56:44.483587 INFO::# Normalizing for spatial effect\u001b[0m\u001b[22m\u001b[23m\u001b[24m\u001b[27m\u001b[28m\u001b[29m\u001b[39m\u001b[49m\u001b[0m\u001b[0m\u001b[22m\u001b[23m\u001b[24m\u001b[27m\u001b[28m\u001b[29m\u001b[39m\u001b[49m\n",
      "\u001b[0m2024-02-26 14:56:44.483587 INFO::# Normalizing for spatial effect\u001b[0m\u001b[22m\u001b[23m\u001b[24m\u001b[27m\u001b[28m\u001b[29m\u001b[39m\u001b[49m\u001b[0m\u001b[0m\u001b[22m\u001b[23m\u001b[24m\u001b[27m\u001b[28m\u001b[29m\u001b[39m\u001b[49m\n",
      "\u001b[0m2024-02-26 14:56:44.549153 INFO::# Normalizing for row column effect\u001b[0m\u001b[22m\u001b[23m\u001b[24m\u001b[27m\u001b[28m\u001b[29m\u001b[39m\u001b[49m\u001b[0m\u001b[0m\u001b[22m\u001b[23m\u001b[24m\u001b[27m\u001b[28m\u001b[29m\u001b[39m\u001b[49m\n",
      "\u001b[0m2024-02-26 14:56:44.549153 INFO::# Normalizing for row column effect\u001b[0m\u001b[22m\u001b[23m\u001b[24m\u001b[27m\u001b[28m\u001b[29m\u001b[39m\u001b[49m\u001b[0m\u001b[0m\u001b[22m\u001b[23m\u001b[24m\u001b[27m\u001b[28m\u001b[29m\u001b[39m\u001b[49m\n",
      "\u001b[0m2024-02-26 14:56:44.578779 INFO::# Applying jackknife filter\u001b[0m\u001b[22m\u001b[23m\u001b[24m\u001b[27m\u001b[28m\u001b[29m\u001b[39m\u001b[49m\u001b[0m\u001b[0m\u001b[22m\u001b[23m\u001b[24m\u001b[27m\u001b[28m\u001b[29m\u001b[39m\u001b[49m\n",
      "\u001b[0m2024-02-26 14:56:44.578779 INFO::# Applying jackknife filter\u001b[0m\u001b[22m\u001b[23m\u001b[24m\u001b[27m\u001b[28m\u001b[29m\u001b[39m\u001b[49m\u001b[0m\u001b[0m\u001b[22m\u001b[23m\u001b[24m\u001b[27m\u001b[28m\u001b[29m\u001b[39m\u001b[49m\n",
      "\u001b[0m2024-02-26 14:56:44.579441 INFO::Done jackknife filter, total ignored = 0\u001b[0m\u001b[22m\u001b[23m\u001b[24m\u001b[27m\u001b[28m\u001b[29m\u001b[39m\u001b[49m\u001b[0m\u001b[0m\u001b[22m\u001b[23m\u001b[24m\u001b[27m\u001b[28m\u001b[29m\u001b[39m\u001b[49m\n",
      "\u001b[0m2024-02-26 14:56:44.579441 INFO::Done jackknife filter, total ignored = 0\u001b[0m\u001b[22m\u001b[23m\u001b[24m\u001b[27m\u001b[28m\u001b[29m\u001b[39m\u001b[49m\u001b[0m\u001b[0m\u001b[22m\u001b[23m\u001b[24m\u001b[27m\u001b[28m\u001b[29m\u001b[39m\u001b[49m\n",
      "\u001b[0m2024-02-26 14:56:44.590477 INFO::# Normalizing for plate effect, default.overall.median = 510\u001b[0m\u001b[22m\u001b[23m\u001b[24m\u001b[27m\u001b[28m\u001b[29m\u001b[39m\u001b[49m\u001b[0m\u001b[0m\u001b[22m\u001b[23m\u001b[24m\u001b[27m\u001b[28m\u001b[29m\u001b[39m\u001b[49m\n",
      "\u001b[0m2024-02-26 14:56:44.590477 INFO::# Normalizing for plate effect, default.overall.median = 510\u001b[0m\u001b[22m\u001b[23m\u001b[24m\u001b[27m\u001b[28m\u001b[29m\u001b[39m\u001b[49m\u001b[0m\u001b[0m\u001b[22m\u001b[23m\u001b[24m\u001b[27m\u001b[28m\u001b[29m\u001b[39m\u001b[49m\n",
      "\u001b[0m2024-02-26 14:56:44.591082 INFO::Done plate normalization\u001b[0m\u001b[22m\u001b[23m\u001b[24m\u001b[27m\u001b[28m\u001b[29m\u001b[39m\u001b[49m\u001b[0m\u001b[0m\u001b[22m\u001b[23m\u001b[24m\u001b[27m\u001b[28m\u001b[29m\u001b[39m\u001b[49m\n",
      "\u001b[0m2024-02-26 14:56:44.591082 INFO::Done plate normalization\u001b[0m\u001b[22m\u001b[23m\u001b[24m\u001b[27m\u001b[28m\u001b[29m\u001b[39m\u001b[49m\u001b[0m\u001b[0m\u001b[22m\u001b[23m\u001b[24m\u001b[27m\u001b[28m\u001b[29m\u001b[39m\u001b[49m\n"
     ]
    }
   ],
   "source": [
    "df1 = normalizeSGA(\n",
    "    df01,\n",
    "    replicates=replicates,\n",
    "    linkage.cutoff=linkage_cutoff,\n",
    "    keep.large=keep_large, #?\n",
    "    overall.plate.median=overall_plate_median,\n",
    "    max.colony.size=max_colony_size,\n",
    "    intermediate.data=intermediate_data,\n",
    "    # linkage.file=linkage_file, #todo\n",
    "    linkage.genes=linkage_genes,\n",
    "    )"
   ]
  },
  {
   "cell_type": "markdown",
   "id": "00de9fcb-27da-46cc-87fe-ad64257163c7",
   "metadata": {
    "papermill": {
     "duration": 0.001941,
     "end_time": "2024-02-26T19:56:44.611651",
     "exception": false,
     "start_time": "2024-02-26T19:56:44.609710",
     "status": "completed"
    },
    "tags": []
   },
   "source": [
    "## Output data"
   ]
  },
  {
   "cell_type": "code",
   "execution_count": 8,
   "id": "77c5dd18-766e-4b70-8523-b31f32bb09ae",
   "metadata": {
    "execution": {
     "iopub.execute_input": "2024-02-26T19:56:44.617264Z",
     "iopub.status.busy": "2024-02-26T19:56:44.616602Z",
     "iopub.status.idle": "2024-02-26T19:56:44.622219Z",
     "shell.execute_reply": "2024-02-26T19:56:44.621422Z"
    },
    "jupyter": {
     "source_hidden": true
    },
    "papermill": {
     "duration": 0.009655,
     "end_time": "2024-02-26T19:56:44.623379",
     "exception": false,
     "start_time": "2024-02-26T19:56:44.613724",
     "status": "completed"
    },
    "tags": []
   },
   "outputs": [],
   "source": [
    "if (!file.exists(output_dir_path)) {\n",
    "  dir.create(output_dir_path, recursive = TRUE)\n",
    "}"
   ]
  },
  {
   "cell_type": "code",
   "execution_count": 9,
   "id": "4c75bc35-6def-4f59-ba54-dfbdacc2b328",
   "metadata": {
    "execution": {
     "iopub.execute_input": "2024-02-26T19:56:44.628761Z",
     "iopub.status.busy": "2024-02-26T19:56:44.628148Z",
     "iopub.status.idle": "2024-02-26T19:56:44.637415Z",
     "shell.execute_reply": "2024-02-26T19:56:44.636651Z"
    },
    "jupyter": {
     "source_hidden": true
    },
    "papermill": {
     "duration": 0.013002,
     "end_time": "2024-02-26T19:56:44.638445",
     "exception": false,
     "start_time": "2024-02-26T19:56:44.625443",
     "status": "completed"
    },
    "tags": []
   },
   "outputs": [],
   "source": [
    "# str(df1)\n",
    "df1$kvp <- sapply(df1$kvp, toString)"
   ]
  },
  {
   "cell_type": "code",
   "execution_count": 10,
   "id": "c4b2e150-30d7-4007-b9c4-43d75f34a54e",
   "metadata": {
    "execution": {
     "iopub.execute_input": "2024-02-26T19:56:44.643887Z",
     "iopub.status.busy": "2024-02-26T19:56:44.643297Z",
     "iopub.status.idle": "2024-02-26T19:56:44.660466Z",
     "shell.execute_reply": "2024-02-26T19:56:44.659618Z"
    },
    "jupyter": {
     "source_hidden": true
    },
    "papermill": {
     "duration": 0.02106,
     "end_time": "2024-02-26T19:56:44.661587",
     "exception": false,
     "start_time": "2024-02-26T19:56:44.640527",
     "status": "completed"
    },
    "tags": []
   },
   "outputs": [
    {
     "data": {
      "text/html": [
       "<table class=\"dataframe\">\n",
       "<caption>A data.frame: 6 × 7</caption>\n",
       "<thead>\n",
       "\t<tr><th></th><th scope=col>row</th><th scope=col>col</th><th scope=col>size</th><th scope=col>circularity</th><th scope=col>colonysize</th><th scope=col>ncolonysize</th><th scope=col>kvp</th></tr>\n",
       "\t<tr><th></th><th scope=col>&lt;int&gt;</th><th scope=col>&lt;int&gt;</th><th scope=col>&lt;dbl&gt;</th><th scope=col>&lt;dbl&gt;</th><th scope=col>&lt;dbl&gt;</th><th scope=col>&lt;dbl&gt;</th><th scope=col>&lt;chr&gt;</th></tr>\n",
       "</thead>\n",
       "<tbody>\n",
       "\t<tr><th scope=row>1</th><td>1</td><td>1</td><td>3861</td><td>0.8612960</td><td>3861</td><td>1.0046823</td><td></td></tr>\n",
       "\t<tr><th scope=row>2</th><td>1</td><td>2</td><td>3060</td><td>0.8894521</td><td>3060</td><td>0.9251287</td><td></td></tr>\n",
       "\t<tr><th scope=row>3</th><td>1</td><td>3</td><td>2962</td><td>0.9150902</td><td>2962</td><td>1.0517116</td><td></td></tr>\n",
       "\t<tr><th scope=row>4</th><td>1</td><td>4</td><td>2721</td><td>0.9170527</td><td>2721</td><td>1.0196817</td><td></td></tr>\n",
       "\t<tr><th scope=row>5</th><td>1</td><td>5</td><td>2557</td><td>0.9042184</td><td>2557</td><td>0.9883676</td><td></td></tr>\n",
       "\t<tr><th scope=row>6</th><td>1</td><td>6</td><td>3119</td><td>0.9169053</td><td>3119</td><td>1.2351216</td><td></td></tr>\n",
       "</tbody>\n",
       "</table>\n"
      ],
      "text/latex": [
       "A data.frame: 6 × 7\n",
       "\\begin{tabular}{r|lllllll}\n",
       "  & row & col & size & circularity & colonysize & ncolonysize & kvp\\\\\n",
       "  & <int> & <int> & <dbl> & <dbl> & <dbl> & <dbl> & <chr>\\\\\n",
       "\\hline\n",
       "\t1 & 1 & 1 & 3861 & 0.8612960 & 3861 & 1.0046823 & \\\\\n",
       "\t2 & 1 & 2 & 3060 & 0.8894521 & 3060 & 0.9251287 & \\\\\n",
       "\t3 & 1 & 3 & 2962 & 0.9150902 & 2962 & 1.0517116 & \\\\\n",
       "\t4 & 1 & 4 & 2721 & 0.9170527 & 2721 & 1.0196817 & \\\\\n",
       "\t5 & 1 & 5 & 2557 & 0.9042184 & 2557 & 0.9883676 & \\\\\n",
       "\t6 & 1 & 6 & 3119 & 0.9169053 & 3119 & 1.2351216 & \\\\\n",
       "\\end{tabular}\n"
      ],
      "text/markdown": [
       "\n",
       "A data.frame: 6 × 7\n",
       "\n",
       "| <!--/--> | row &lt;int&gt; | col &lt;int&gt; | size &lt;dbl&gt; | circularity &lt;dbl&gt; | colonysize &lt;dbl&gt; | ncolonysize &lt;dbl&gt; | kvp &lt;chr&gt; |\n",
       "|---|---|---|---|---|---|---|---|\n",
       "| 1 | 1 | 1 | 3861 | 0.8612960 | 3861 | 1.0046823 | <!----> |\n",
       "| 2 | 1 | 2 | 3060 | 0.8894521 | 3060 | 0.9251287 | <!----> |\n",
       "| 3 | 1 | 3 | 2962 | 0.9150902 | 2962 | 1.0517116 | <!----> |\n",
       "| 4 | 1 | 4 | 2721 | 0.9170527 | 2721 | 1.0196817 | <!----> |\n",
       "| 5 | 1 | 5 | 2557 | 0.9042184 | 2557 | 0.9883676 | <!----> |\n",
       "| 6 | 1 | 6 | 3119 | 0.9169053 | 3119 | 1.2351216 | <!----> |\n",
       "\n"
      ],
      "text/plain": [
       "  row col size circularity colonysize ncolonysize kvp\n",
       "1 1   1   3861 0.8612960   3861       1.0046823      \n",
       "2 1   2   3060 0.8894521   3060       0.9251287      \n",
       "3 1   3   2962 0.9150902   2962       1.0517116      \n",
       "4 1   4   2721 0.9170527   2721       1.0196817      \n",
       "5 1   5   2557 0.9042184   2557       0.9883676      \n",
       "6 1   6   3119 0.9169053   3119       1.2351216      "
      ]
     },
     "metadata": {},
     "output_type": "display_data"
    }
   ],
   "source": [
    "write.table(\n",
    "    df1,\n",
    "    file=output_path,\n",
    "    sep=\"\\t\", row.names = FALSE,\n",
    ")\n",
    "head(df1)"
   ]
  },
  {
   "cell_type": "markdown",
   "id": "a895975c-a83f-4703-bd45-16e9506eb4df",
   "metadata": {
    "papermill": {
     "duration": 0.00209,
     "end_time": "2024-02-26T19:56:44.665888",
     "exception": false,
     "start_time": "2024-02-26T19:56:44.663798",
     "status": "completed"
    },
    "tags": []
   },
   "source": [
    "### Plots for the normalized data"
   ]
  },
  {
   "cell_type": "code",
   "execution_count": 11,
   "id": "5fc8d6eb-262b-47e4-ba85-672b074a211f",
   "metadata": {
    "execution": {
     "iopub.execute_input": "2024-02-26T19:56:44.671403Z",
     "iopub.status.busy": "2024-02-26T19:56:44.670768Z",
     "iopub.status.idle": "2024-02-26T19:56:44.711976Z",
     "shell.execute_reply": "2024-02-26T19:56:44.711046Z"
    },
    "jupyter": {
     "source_hidden": true
    },
    "papermill": {
     "duration": 0.04507,
     "end_time": "2024-02-26T19:56:44.713071",
     "exception": false,
     "start_time": "2024-02-26T19:56:44.668001",
     "status": "completed"
    },
    "tags": []
   },
   "outputs": [
    {
     "data": {
      "image/png": "[encoded data removed]",
      "text/plain": [
       "Plot with title “Histogram of df1$size”"
      ]
     },
     "metadata": {
      "image/png": {
       "height": 420,
       "width": 420
      }
     },
     "output_type": "display_data"
    }
   ],
   "source": [
    "hist(df1$size)"
   ]
  },
  {
   "cell_type": "code",
   "execution_count": 12,
   "id": "e6edcd32-9491-4a58-96e4-2141de7d3b77",
   "metadata": {
    "execution": {
     "iopub.execute_input": "2024-02-26T19:56:44.719445Z",
     "iopub.status.busy": "2024-02-26T19:56:44.718767Z",
     "iopub.status.idle": "2024-02-26T19:56:44.768898Z",
     "shell.execute_reply": "2024-02-26T19:56:44.767962Z"
    },
    "jupyter": {
     "source_hidden": true
    },
    "papermill": {
     "duration": 0.054356,
     "end_time": "2024-02-26T19:56:44.770010",
     "exception": false,
     "start_time": "2024-02-26T19:56:44.715654",
     "status": "completed"
    },
    "tags": []
   },
   "outputs": [
    {
     "data": {
      "image/png": "[encoded data removed]",
      "text/plain": [
       "plot without title"
      ]
     },
     "metadata": {
      "image/png": {
       "height": 420,
       "width": 420
      }
     },
     "output_type": "display_data"
    }
   ],
   "source": [
    "plot(df1$colonysize,df1$ncolonysize)"
   ]
  },
  {
   "cell_type": "code",
   "execution_count": 13,
   "id": "c860d022-465c-4294-9e7a-40cbdc2ecf0f",
   "metadata": {
    "execution": {
     "iopub.execute_input": "2024-02-26T19:56:44.776703Z",
     "iopub.status.busy": "2024-02-26T19:56:44.776086Z",
     "iopub.status.idle": "2024-02-26T19:56:44.865481Z",
     "shell.execute_reply": "2024-02-26T19:56:44.864637Z"
    },
    "jupyter": {
     "source_hidden": true
    },
    "papermill": {
     "duration": 0.093749,
     "end_time": "2024-02-26T19:56:44.866540",
     "exception": false,
     "start_time": "2024-02-26T19:56:44.772791",
     "status": "completed"
    },
    "tags": []
   },
   "outputs": [
    {
     "data": {
      "text/html": [
       "<style>\n",
       ".list-inline {list-style: none; margin:0; padding: 0}\n",
       ".list-inline>li {display: inline-block}\n",
       ".list-inline>li:not(:last-child)::after {content: \"\\00b7\"; padding: 0 .5ex}\n",
       "</style>\n",
       "<ol class=list-inline><li>'R version 4.3.2 (2023-10-31)'</li><li>'Platform: x86_64-conda-linux-gnu (64-bit)'</li><li>'Running under: Ubuntu 22.04.1 LTS'</li><li>''</li><li>'Locale:'</li><li><span style=white-space:pre-wrap>'  LC_CTYPE=C.UTF-8       LC_NUMERIC=C           LC_TIME=C.UTF-8       '</span></li><li><span style=white-space:pre-wrap>'  LC_COLLATE=C.UTF-8     LC_MONETARY=C.UTF-8    LC_MESSAGES=C.UTF-8   '</span></li><li><span style=white-space:pre-wrap>'  LC_PAPER=C.UTF-8       LC_NAME=C              LC_ADDRESS=C          '</span></li><li><span style=white-space:pre-wrap>'  LC_TELEPHONE=C         LC_MEASUREMENT=C.UTF-8 LC_IDENTIFICATION=C   '</span></li><li>''</li><li>'Package version:'</li><li><span style=white-space:pre-wrap>'  base64enc_0.1-3     bootstrap_2019.6    cli_3.6.1          '</span></li><li><span style=white-space:pre-wrap>'  compiler_4.3.2      crayon_1.5.2        digest_0.6.33      '</span></li><li><span style=white-space:pre-wrap>'  ellipsis_0.3.2      evaluate_0.23       fansi_1.0.5        '</span></li><li><span style=white-space:pre-wrap>'  fastmap_1.1.1       glue_1.6.2          graphics_4.3.2     '</span></li><li><span style=white-space:pre-wrap>'  grDevices_4.3.2     htmltools_0.5.7     IRdisplay_1.1      '</span></li><li><span style=white-space:pre-wrap>'  IRkernel_1.3.2.9000 jsonlite_1.8.7      lifecycle_1.0.4    '</span></li><li><span style=white-space:pre-wrap>'  logging_0.10-108    magrittr_2.0.3      methods_4.3.2      '</span></li><li><span style=white-space:pre-wrap>'  pbdZMQ_0.3-10       pillar_1.9.0        repr_1.1.6         '</span></li><li><span style=white-space:pre-wrap>'  rlang_1.1.2         stats_4.3.2         stringi_1.8.1      '</span></li><li><span style=white-space:pre-wrap>'  stringr_1.5.1       tools_4.3.2         utf8_1.2.4         '</span></li><li><span style=white-space:pre-wrap>'  utils_4.3.2         uuid_1.1-1          vctrs_0.6.4        '</span></li><li><span style=white-space:pre-wrap>'  xfun_0.41          '</span></li></ol>\n"
      ],
      "text/latex": [
       "\\begin{enumerate*}\n",
       "\\item 'R version 4.3.2 (2023-10-31)'\n",
       "\\item 'Platform: x86\\_64-conda-linux-gnu (64-bit)'\n",
       "\\item 'Running under: Ubuntu 22.04.1 LTS'\n",
       "\\item ''\n",
       "\\item 'Locale:'\n",
       "\\item '  LC\\_CTYPE=C.UTF-8       LC\\_NUMERIC=C           LC\\_TIME=C.UTF-8       '\n",
       "\\item '  LC\\_COLLATE=C.UTF-8     LC\\_MONETARY=C.UTF-8    LC\\_MESSAGES=C.UTF-8   '\n",
       "\\item '  LC\\_PAPER=C.UTF-8       LC\\_NAME=C              LC\\_ADDRESS=C          '\n",
       "\\item '  LC\\_TELEPHONE=C         LC\\_MEASUREMENT=C.UTF-8 LC\\_IDENTIFICATION=C   '\n",
       "\\item ''\n",
       "\\item 'Package version:'\n",
       "\\item '  base64enc\\_0.1-3     bootstrap\\_2019.6    cli\\_3.6.1          '\n",
       "\\item '  compiler\\_4.3.2      crayon\\_1.5.2        digest\\_0.6.33      '\n",
       "\\item '  ellipsis\\_0.3.2      evaluate\\_0.23       fansi\\_1.0.5        '\n",
       "\\item '  fastmap\\_1.1.1       glue\\_1.6.2          graphics\\_4.3.2     '\n",
       "\\item '  grDevices\\_4.3.2     htmltools\\_0.5.7     IRdisplay\\_1.1      '\n",
       "\\item '  IRkernel\\_1.3.2.9000 jsonlite\\_1.8.7      lifecycle\\_1.0.4    '\n",
       "\\item '  logging\\_0.10-108    magrittr\\_2.0.3      methods\\_4.3.2      '\n",
       "\\item '  pbdZMQ\\_0.3-10       pillar\\_1.9.0        repr\\_1.1.6         '\n",
       "\\item '  rlang\\_1.1.2         stats\\_4.3.2         stringi\\_1.8.1      '\n",
       "\\item '  stringr\\_1.5.1       tools\\_4.3.2         utf8\\_1.2.4         '\n",
       "\\item '  utils\\_4.3.2         uuid\\_1.1-1          vctrs\\_0.6.4        '\n",
       "\\item '  xfun\\_0.41          '\n",
       "\\end{enumerate*}\n"
      ],
      "text/markdown": [
       "1. 'R version 4.3.2 (2023-10-31)'\n",
       "2. 'Platform: x86_64-conda-linux-gnu (64-bit)'\n",
       "3. 'Running under: Ubuntu 22.04.1 LTS'\n",
       "4. ''\n",
       "5. 'Locale:'\n",
       "6. <span style=white-space:pre-wrap>'  LC_CTYPE=C.UTF-8       LC_NUMERIC=C           LC_TIME=C.UTF-8       '</span>\n",
       "7. <span style=white-space:pre-wrap>'  LC_COLLATE=C.UTF-8     LC_MONETARY=C.UTF-8    LC_MESSAGES=C.UTF-8   '</span>\n",
       "8. <span style=white-space:pre-wrap>'  LC_PAPER=C.UTF-8       LC_NAME=C              LC_ADDRESS=C          '</span>\n",
       "9. <span style=white-space:pre-wrap>'  LC_TELEPHONE=C         LC_MEASUREMENT=C.UTF-8 LC_IDENTIFICATION=C   '</span>\n",
       "10. ''\n",
       "11. 'Package version:'\n",
       "12. <span style=white-space:pre-wrap>'  base64enc_0.1-3     bootstrap_2019.6    cli_3.6.1          '</span>\n",
       "13. <span style=white-space:pre-wrap>'  compiler_4.3.2      crayon_1.5.2        digest_0.6.33      '</span>\n",
       "14. <span style=white-space:pre-wrap>'  ellipsis_0.3.2      evaluate_0.23       fansi_1.0.5        '</span>\n",
       "15. <span style=white-space:pre-wrap>'  fastmap_1.1.1       glue_1.6.2          graphics_4.3.2     '</span>\n",
       "16. <span style=white-space:pre-wrap>'  grDevices_4.3.2     htmltools_0.5.7     IRdisplay_1.1      '</span>\n",
       "17. <span style=white-space:pre-wrap>'  IRkernel_1.3.2.9000 jsonlite_1.8.7      lifecycle_1.0.4    '</span>\n",
       "18. <span style=white-space:pre-wrap>'  logging_0.10-108    magrittr_2.0.3      methods_4.3.2      '</span>\n",
       "19. <span style=white-space:pre-wrap>'  pbdZMQ_0.3-10       pillar_1.9.0        repr_1.1.6         '</span>\n",
       "20. <span style=white-space:pre-wrap>'  rlang_1.1.2         stats_4.3.2         stringi_1.8.1      '</span>\n",
       "21. <span style=white-space:pre-wrap>'  stringr_1.5.1       tools_4.3.2         utf8_1.2.4         '</span>\n",
       "22. <span style=white-space:pre-wrap>'  utils_4.3.2         uuid_1.1-1          vctrs_0.6.4        '</span>\n",
       "23. <span style=white-space:pre-wrap>'  xfun_0.41          '</span>\n",
       "\n",
       "\n"
      ],
      "text/plain": [
       "R version 4.3.2 (2023-10-31)\n",
       "Platform: x86_64-conda-linux-gnu (64-bit)\n",
       "Running under: Ubuntu 22.04.1 LTS\n",
       "\n",
       "Locale:\n",
       "  LC_CTYPE=C.UTF-8       LC_NUMERIC=C           LC_TIME=C.UTF-8       \n",
       "  LC_COLLATE=C.UTF-8     LC_MONETARY=C.UTF-8    LC_MESSAGES=C.UTF-8   \n",
       "  LC_PAPER=C.UTF-8       LC_NAME=C              LC_ADDRESS=C          \n",
       "  LC_TELEPHONE=C         LC_MEASUREMENT=C.UTF-8 LC_IDENTIFICATION=C   \n",
       "\n",
       "Package version:\n",
       "  base64enc_0.1-3     bootstrap_2019.6    cli_3.6.1          \n",
       "  compiler_4.3.2      crayon_1.5.2        digest_0.6.33      \n",
       "  ellipsis_0.3.2      evaluate_0.23       fansi_1.0.5        \n",
       "  fastmap_1.1.1       glue_1.6.2          graphics_4.3.2     \n",
       "  grDevices_4.3.2     htmltools_0.5.7     IRdisplay_1.1      \n",
       "  IRkernel_1.3.2.9000 jsonlite_1.8.7      lifecycle_1.0.4    \n",
       "  logging_0.10-108    magrittr_2.0.3      methods_4.3.2      \n",
       "  pbdZMQ_0.3-10       pillar_1.9.0        repr_1.1.6         \n",
       "  rlang_1.1.2         stats_4.3.2         stringi_1.8.1      \n",
       "  stringr_1.5.1       tools_4.3.2         utf8_1.2.4         \n",
       "  utils_4.3.2         uuid_1.1-1          vctrs_0.6.4        \n",
       "  xfun_0.41          "
      ]
     },
     "metadata": {},
     "output_type": "display_data"
    }
   ],
   "source": [
    "xfun::session_info()"
   ]
  }
 ],
 "metadata": {
  "kernelspec": {
   "display_name": "sgatools",
   "language": "R",
   "name": "sgatools"
  },
  "language_info": {
   "codemirror_mode": "r",
   "file_extension": ".r",
   "mimetype": "text/x-r-source",
   "name": "R",
   "pygments_lexer": "r",
   "version": "4.3.2"
  },
  "papermill": {
   "default_parameters": {},
   "duration": 1.811386,
   "end_time": "2024-02-26T19:56:44.989166",
   "environment_variables": {},
   "exception": null,
   "input_path": "sgatools.ipynb",
   "output_path": "examples/outputs//image_example1_reports/20240226T145642_sgatools.ipynb",
   "parameters": {
    "input_path": "examples/inputs/image_example1.dat",
    "intermediate_data": false,
    "keep_large": false,
    "linkage_cutoff": -1,
    "linkage_file": null,
    "linkage_genes": null,
    "max_colony_size": 765.0,
    "output_path": "examples/outputs//image_example1.tsv",
    "overall_plate_median": 510,
    "replicates": 4
   },
   "start_time": "2024-02-26T19:56:43.177780",
   "version": "2.5.0"
  }
 },
 "nbformat": 4,
 "nbformat_minor": 5
}